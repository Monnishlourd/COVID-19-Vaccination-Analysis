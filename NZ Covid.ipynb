{
 "cells": [
  {
   "cell_type": "code",
   "execution_count": 1,
   "metadata": {},
   "outputs": [],
   "source": [
    "import pandas as pd\n",
    "import numpy as np\n",
    "import seaborn as sns\n",
    "import matplotlib.pyplot as plt\n",
    "import os"
   ]
  },
  {
   "cell_type": "code",
   "execution_count": 5,
   "metadata": {},
   "outputs": [
    {
     "name": "stdout",
     "output_type": "stream",
     "text": [
      "Requirement already satisfied: plotly in c:\\users\\lourd\\anaconda3\\lib\\site-packages (5.3.1)\n",
      "Requirement already satisfied: six in c:\\users\\lourd\\anaconda3\\lib\\site-packages (from plotly) (1.15.0)\n",
      "Requirement already satisfied: tenacity>=6.2.0 in c:\\users\\lourd\\anaconda3\\lib\\site-packages (from plotly) (8.0.1)\n",
      "Note: you may need to restart the kernel to use updated packages.\n"
     ]
    },
    {
     "name": "stderr",
     "output_type": "stream",
     "text": [
      "WARNING: Ignoring invalid distribution -umpy (c:\\users\\lourd\\anaconda3\\lib\\site-packages)\n",
      "WARNING: Ignoring invalid distribution -umpy (c:\\users\\lourd\\anaconda3\\lib\\site-packages)\n",
      "WARNING: Ignoring invalid distribution -umpy (c:\\users\\lourd\\anaconda3\\lib\\site-packages)\n",
      "WARNING: Ignoring invalid distribution -umpy (c:\\users\\lourd\\anaconda3\\lib\\site-packages)\n",
      "WARNING: Ignoring invalid distribution -umpy (c:\\users\\lourd\\anaconda3\\lib\\site-packages)\n",
      "WARNING: Ignoring invalid distribution -umpy (c:\\users\\lourd\\anaconda3\\lib\\site-packages)\n",
      "WARNING: You are using pip version 21.3; however, version 21.3.1 is available.\n",
      "You should consider upgrading via the 'C:\\Users\\lourd\\anaconda3\\python.exe -m pip install --upgrade pip' command.\n"
     ]
    }
   ],
   "source": [
    " pip install plotly "
   ]
  },
  {
   "cell_type": "code",
   "execution_count": 7,
   "metadata": {},
   "outputs": [],
   "source": [
    "import plotly.express as px\n",
    "import plotly.graph_objects as go\n",
    "#import colorlover as cl\n",
    "from plotly.subplots import make_subplots"
   ]
  },
  {
   "cell_type": "code",
   "execution_count": 8,
   "metadata": {},
   "outputs": [
    {
     "data": {
      "text/plain": [
       "'C:\\\\Users\\\\lourd'"
      ]
     },
     "execution_count": 8,
     "metadata": {},
     "output_type": "execute_result"
    }
   ],
   "source": [
    "pwd"
   ]
  },
  {
   "cell_type": "code",
   "execution_count": 10,
   "metadata": {},
   "outputs": [],
   "source": [
    "path ='D:\\Virtual Internship\\COVID 19'"
   ]
  },
  {
   "cell_type": "code",
   "execution_count": 11,
   "metadata": {},
   "outputs": [],
   "source": [
    "os.chdir(path)"
   ]
  },
  {
   "cell_type": "code",
   "execution_count": 12,
   "metadata": {},
   "outputs": [
    {
     "data": {
      "text/plain": [
       "'D:\\\\Virtual Internship\\\\COVID 19'"
      ]
     },
     "execution_count": 12,
     "metadata": {},
     "output_type": "execute_result"
    }
   ],
   "source": [
    "pwd"
   ]
  },
  {
   "cell_type": "code",
   "execution_count": 13,
   "metadata": {},
   "outputs": [],
   "source": [
    "df=pd.read_excel('covid_vaccinations_19_10_2021.xlsx', sheet_name=\"TLA\")"
   ]
  },
  {
   "cell_type": "code",
   "execution_count": 14,
   "metadata": {},
   "outputs": [
    {
     "data": {
      "text/html": [
       "<div>\n",
       "<style scoped>\n",
       "    .dataframe tbody tr th:only-of-type {\n",
       "        vertical-align: middle;\n",
       "    }\n",
       "\n",
       "    .dataframe tbody tr th {\n",
       "        vertical-align: top;\n",
       "    }\n",
       "\n",
       "    .dataframe thead th {\n",
       "        text-align: right;\n",
       "    }\n",
       "</style>\n",
       "<table border=\"1\" class=\"dataframe\">\n",
       "  <thead>\n",
       "    <tr style=\"text-align: right;\">\n",
       "      <th></th>\n",
       "      <th>Territorial Authority</th>\n",
       "      <th>Population</th>\n",
       "      <th>First Dose</th>\n",
       "      <th>Second Dose</th>\n",
       "      <th>% First Dose</th>\n",
       "      <th>% Second Dose</th>\n",
       "      <th>Unnamed: 6</th>\n",
       "      <th>Unnamed: 7</th>\n",
       "      <th>Notes:</th>\n",
       "    </tr>\n",
       "  </thead>\n",
       "  <tbody>\n",
       "    <tr>\n",
       "      <th>0</th>\n",
       "      <td>Ashburton District</td>\n",
       "      <td>27424</td>\n",
       "      <td>23566</td>\n",
       "      <td>15946</td>\n",
       "      <td>0.859320</td>\n",
       "      <td>0.581461</td>\n",
       "      <td>NaN</td>\n",
       "      <td>NaN</td>\n",
       "      <td>Population is based on the population reported...</td>\n",
       "    </tr>\n",
       "    <tr>\n",
       "      <th>1</th>\n",
       "      <td>Auckland</td>\n",
       "      <td>1383804</td>\n",
       "      <td>1227116</td>\n",
       "      <td>1003929</td>\n",
       "      <td>0.886770</td>\n",
       "      <td>0.725485</td>\n",
       "      <td>NaN</td>\n",
       "      <td>NaN</td>\n",
       "      <td>Population excludes any individuals since dece...</td>\n",
       "    </tr>\n",
       "    <tr>\n",
       "      <th>2</th>\n",
       "      <td>Buller District</td>\n",
       "      <td>8272</td>\n",
       "      <td>6276</td>\n",
       "      <td>4928</td>\n",
       "      <td>0.758704</td>\n",
       "      <td>0.595745</td>\n",
       "      <td>NaN</td>\n",
       "      <td>NaN</td>\n",
       "      <td>Vaccinations data will include individuals tha...</td>\n",
       "    </tr>\n",
       "    <tr>\n",
       "      <th>3</th>\n",
       "      <td>Carterton District</td>\n",
       "      <td>8259</td>\n",
       "      <td>6961</td>\n",
       "      <td>5623</td>\n",
       "      <td>0.842838</td>\n",
       "      <td>0.680833</td>\n",
       "      <td>NaN</td>\n",
       "      <td>NaN</td>\n",
       "      <td>TLA2018 boundaries do not map cleanly to the D...</td>\n",
       "    </tr>\n",
       "    <tr>\n",
       "      <th>4</th>\n",
       "      <td>Central Hawke's Bay District</td>\n",
       "      <td>11838</td>\n",
       "      <td>9819</td>\n",
       "      <td>7715</td>\n",
       "      <td>0.829448</td>\n",
       "      <td>0.651715</td>\n",
       "      <td>NaN</td>\n",
       "      <td>NaN</td>\n",
       "      <td>Vaccinations are based on the TLA of residence...</td>\n",
       "    </tr>\n",
       "  </tbody>\n",
       "</table>\n",
       "</div>"
      ],
      "text/plain": [
       "          Territorial Authority  Population  First Dose  Second Dose  \\\n",
       "0            Ashburton District       27424       23566        15946   \n",
       "1                      Auckland     1383804     1227116      1003929   \n",
       "2               Buller District        8272        6276         4928   \n",
       "3            Carterton District        8259        6961         5623   \n",
       "4  Central Hawke's Bay District       11838        9819         7715   \n",
       "\n",
       "   % First Dose  % Second Dose  Unnamed: 6  Unnamed: 7  \\\n",
       "0      0.859320       0.581461         NaN         NaN   \n",
       "1      0.886770       0.725485         NaN         NaN   \n",
       "2      0.758704       0.595745         NaN         NaN   \n",
       "3      0.842838       0.680833         NaN         NaN   \n",
       "4      0.829448       0.651715         NaN         NaN   \n",
       "\n",
       "                                              Notes:  \n",
       "0  Population is based on the population reported...  \n",
       "1  Population excludes any individuals since dece...  \n",
       "2  Vaccinations data will include individuals tha...  \n",
       "3  TLA2018 boundaries do not map cleanly to the D...  \n",
       "4  Vaccinations are based on the TLA of residence...  "
      ]
     },
     "execution_count": 14,
     "metadata": {},
     "output_type": "execute_result"
    }
   ],
   "source": [
    "df.head()"
   ]
  },
  {
   "cell_type": "markdown",
   "metadata": {},
   "source": [
    "Analysis based on District"
   ]
  },
  {
   "cell_type": "code",
   "execution_count": 15,
   "metadata": {},
   "outputs": [
    {
     "data": {
      "text/html": [
       "<div>\n",
       "<style scoped>\n",
       "    .dataframe tbody tr th:only-of-type {\n",
       "        vertical-align: middle;\n",
       "    }\n",
       "\n",
       "    .dataframe tbody tr th {\n",
       "        vertical-align: top;\n",
       "    }\n",
       "\n",
       "    .dataframe thead th {\n",
       "        text-align: right;\n",
       "    }\n",
       "</style>\n",
       "<table border=\"1\" class=\"dataframe\">\n",
       "  <thead>\n",
       "    <tr style=\"text-align: right;\">\n",
       "      <th></th>\n",
       "      <th>Territorial Authority</th>\n",
       "      <th>Population</th>\n",
       "      <th>First Dose</th>\n",
       "      <th>Second Dose</th>\n",
       "      <th>% First Dose</th>\n",
       "      <th>% Second Dose</th>\n",
       "    </tr>\n",
       "  </thead>\n",
       "  <tbody>\n",
       "    <tr>\n",
       "      <th>0</th>\n",
       "      <td>Ashburton District</td>\n",
       "      <td>27424</td>\n",
       "      <td>23566</td>\n",
       "      <td>15946</td>\n",
       "      <td>0.859320</td>\n",
       "      <td>0.581461</td>\n",
       "    </tr>\n",
       "    <tr>\n",
       "      <th>1</th>\n",
       "      <td>Auckland</td>\n",
       "      <td>1383804</td>\n",
       "      <td>1227116</td>\n",
       "      <td>1003929</td>\n",
       "      <td>0.886770</td>\n",
       "      <td>0.725485</td>\n",
       "    </tr>\n",
       "    <tr>\n",
       "      <th>2</th>\n",
       "      <td>Buller District</td>\n",
       "      <td>8272</td>\n",
       "      <td>6276</td>\n",
       "      <td>4928</td>\n",
       "      <td>0.758704</td>\n",
       "      <td>0.595745</td>\n",
       "    </tr>\n",
       "    <tr>\n",
       "      <th>3</th>\n",
       "      <td>Carterton District</td>\n",
       "      <td>8259</td>\n",
       "      <td>6961</td>\n",
       "      <td>5623</td>\n",
       "      <td>0.842838</td>\n",
       "      <td>0.680833</td>\n",
       "    </tr>\n",
       "    <tr>\n",
       "      <th>4</th>\n",
       "      <td>Central Hawke's Bay District</td>\n",
       "      <td>11838</td>\n",
       "      <td>9819</td>\n",
       "      <td>7715</td>\n",
       "      <td>0.829448</td>\n",
       "      <td>0.651715</td>\n",
       "    </tr>\n",
       "    <tr>\n",
       "      <th>...</th>\n",
       "      <td>...</td>\n",
       "      <td>...</td>\n",
       "      <td>...</td>\n",
       "      <td>...</td>\n",
       "      <td>...</td>\n",
       "      <td>...</td>\n",
       "    </tr>\n",
       "    <tr>\n",
       "      <th>64</th>\n",
       "      <td>Westland District</td>\n",
       "      <td>7100</td>\n",
       "      <td>5695</td>\n",
       "      <td>4443</td>\n",
       "      <td>0.802113</td>\n",
       "      <td>0.625775</td>\n",
       "    </tr>\n",
       "    <tr>\n",
       "      <th>65</th>\n",
       "      <td>Whakatane District</td>\n",
       "      <td>30432</td>\n",
       "      <td>21557</td>\n",
       "      <td>16215</td>\n",
       "      <td>0.708366</td>\n",
       "      <td>0.532827</td>\n",
       "    </tr>\n",
       "    <tr>\n",
       "      <th>66</th>\n",
       "      <td>Whanganui District</td>\n",
       "      <td>39902</td>\n",
       "      <td>30698</td>\n",
       "      <td>25359</td>\n",
       "      <td>0.769335</td>\n",
       "      <td>0.635532</td>\n",
       "    </tr>\n",
       "    <tr>\n",
       "      <th>67</th>\n",
       "      <td>Whangarei District</td>\n",
       "      <td>78696</td>\n",
       "      <td>62755</td>\n",
       "      <td>50715</td>\n",
       "      <td>0.797436</td>\n",
       "      <td>0.644442</td>\n",
       "    </tr>\n",
       "    <tr>\n",
       "      <th>68</th>\n",
       "      <td>Grand Total</td>\n",
       "      <td>4209057</td>\n",
       "      <td>3593489</td>\n",
       "      <td>2837707</td>\n",
       "      <td>0.853752</td>\n",
       "      <td>0.674191</td>\n",
       "    </tr>\n",
       "  </tbody>\n",
       "</table>\n",
       "<p>69 rows × 6 columns</p>\n",
       "</div>"
      ],
      "text/plain": [
       "           Territorial Authority  Population  First Dose  Second Dose  \\\n",
       "0             Ashburton District       27424       23566        15946   \n",
       "1                       Auckland     1383804     1227116      1003929   \n",
       "2                Buller District        8272        6276         4928   \n",
       "3             Carterton District        8259        6961         5623   \n",
       "4   Central Hawke's Bay District       11838        9819         7715   \n",
       "..                           ...         ...         ...          ...   \n",
       "64             Westland District        7100        5695         4443   \n",
       "65            Whakatane District       30432       21557        16215   \n",
       "66            Whanganui District       39902       30698        25359   \n",
       "67            Whangarei District       78696       62755        50715   \n",
       "68                   Grand Total     4209057     3593489      2837707   \n",
       "\n",
       "    % First Dose  % Second Dose  \n",
       "0       0.859320       0.581461  \n",
       "1       0.886770       0.725485  \n",
       "2       0.758704       0.595745  \n",
       "3       0.842838       0.680833  \n",
       "4       0.829448       0.651715  \n",
       "..           ...            ...  \n",
       "64      0.802113       0.625775  \n",
       "65      0.708366       0.532827  \n",
       "66      0.769335       0.635532  \n",
       "67      0.797436       0.644442  \n",
       "68      0.853752       0.674191  \n",
       "\n",
       "[69 rows x 6 columns]"
      ]
     },
     "execution_count": 15,
     "metadata": {},
     "output_type": "execute_result"
    }
   ],
   "source": [
    "df1= pd.DataFrame(df, columns=['Territorial Authority', 'Population','First Dose','Second Dose','% First Dose', '% Second Dose'])\n",
    "df1"
   ]
  },
  {
   "cell_type": "code",
   "execution_count": 16,
   "metadata": {},
   "outputs": [
    {
     "data": {
      "text/html": [
       "<div>\n",
       "<style scoped>\n",
       "    .dataframe tbody tr th:only-of-type {\n",
       "        vertical-align: middle;\n",
       "    }\n",
       "\n",
       "    .dataframe tbody tr th {\n",
       "        vertical-align: top;\n",
       "    }\n",
       "\n",
       "    .dataframe thead th {\n",
       "        text-align: right;\n",
       "    }\n",
       "</style>\n",
       "<table border=\"1\" class=\"dataframe\">\n",
       "  <thead>\n",
       "    <tr style=\"text-align: right;\">\n",
       "      <th></th>\n",
       "      <th>Territorial Authority</th>\n",
       "      <th>Population</th>\n",
       "      <th>First Dose</th>\n",
       "      <th>Second Dose</th>\n",
       "      <th>% First Dose</th>\n",
       "      <th>% Second Dose</th>\n",
       "    </tr>\n",
       "  </thead>\n",
       "  <tbody>\n",
       "    <tr>\n",
       "      <th>0</th>\n",
       "      <td>Ashburton District</td>\n",
       "      <td>27424</td>\n",
       "      <td>23566</td>\n",
       "      <td>15946</td>\n",
       "      <td>0.859320</td>\n",
       "      <td>0.581461</td>\n",
       "    </tr>\n",
       "    <tr>\n",
       "      <th>1</th>\n",
       "      <td>Auckland</td>\n",
       "      <td>1383804</td>\n",
       "      <td>1227116</td>\n",
       "      <td>1003929</td>\n",
       "      <td>0.886770</td>\n",
       "      <td>0.725485</td>\n",
       "    </tr>\n",
       "    <tr>\n",
       "      <th>2</th>\n",
       "      <td>Buller District</td>\n",
       "      <td>8272</td>\n",
       "      <td>6276</td>\n",
       "      <td>4928</td>\n",
       "      <td>0.758704</td>\n",
       "      <td>0.595745</td>\n",
       "    </tr>\n",
       "    <tr>\n",
       "      <th>3</th>\n",
       "      <td>Carterton District</td>\n",
       "      <td>8259</td>\n",
       "      <td>6961</td>\n",
       "      <td>5623</td>\n",
       "      <td>0.842838</td>\n",
       "      <td>0.680833</td>\n",
       "    </tr>\n",
       "    <tr>\n",
       "      <th>4</th>\n",
       "      <td>Central Hawke's Bay District</td>\n",
       "      <td>11838</td>\n",
       "      <td>9819</td>\n",
       "      <td>7715</td>\n",
       "      <td>0.829448</td>\n",
       "      <td>0.651715</td>\n",
       "    </tr>\n",
       "  </tbody>\n",
       "</table>\n",
       "</div>"
      ],
      "text/plain": [
       "          Territorial Authority  Population  First Dose  Second Dose  \\\n",
       "0            Ashburton District       27424       23566        15946   \n",
       "1                      Auckland     1383804     1227116      1003929   \n",
       "2               Buller District        8272        6276         4928   \n",
       "3            Carterton District        8259        6961         5623   \n",
       "4  Central Hawke's Bay District       11838        9819         7715   \n",
       "\n",
       "   % First Dose  % Second Dose  \n",
       "0      0.859320       0.581461  \n",
       "1      0.886770       0.725485  \n",
       "2      0.758704       0.595745  \n",
       "3      0.842838       0.680833  \n",
       "4      0.829448       0.651715  "
      ]
     },
     "execution_count": 16,
     "metadata": {},
     "output_type": "execute_result"
    }
   ],
   "source": [
    "df1.head()"
   ]
  },
  {
   "cell_type": "markdown",
   "metadata": {},
   "source": [
    "Normalisation of the column"
   ]
  },
  {
   "cell_type": "code",
   "execution_count": 17,
   "metadata": {},
   "outputs": [],
   "source": [
    "df1['% First Dose'] = df['% First Dose'].apply(lambda x : int(x) if x > 1 else int(100*x))\n"
   ]
  },
  {
   "cell_type": "code",
   "execution_count": 18,
   "metadata": {},
   "outputs": [],
   "source": [
    "df1['% Second Dose'] = df['% Second Dose'].apply(lambda x : int(x) if x > 1 else int(100*x))"
   ]
  },
  {
   "cell_type": "code",
   "execution_count": 19,
   "metadata": {},
   "outputs": [
    {
     "data": {
      "text/html": [
       "<div>\n",
       "<style scoped>\n",
       "    .dataframe tbody tr th:only-of-type {\n",
       "        vertical-align: middle;\n",
       "    }\n",
       "\n",
       "    .dataframe tbody tr th {\n",
       "        vertical-align: top;\n",
       "    }\n",
       "\n",
       "    .dataframe thead th {\n",
       "        text-align: right;\n",
       "    }\n",
       "</style>\n",
       "<table border=\"1\" class=\"dataframe\">\n",
       "  <thead>\n",
       "    <tr style=\"text-align: right;\">\n",
       "      <th></th>\n",
       "      <th>Territorial Authority</th>\n",
       "      <th>Population</th>\n",
       "      <th>First Dose</th>\n",
       "      <th>Second Dose</th>\n",
       "      <th>% First Dose</th>\n",
       "      <th>% Second Dose</th>\n",
       "    </tr>\n",
       "  </thead>\n",
       "  <tbody>\n",
       "    <tr>\n",
       "      <th>0</th>\n",
       "      <td>Ashburton District</td>\n",
       "      <td>27424</td>\n",
       "      <td>23566</td>\n",
       "      <td>15946</td>\n",
       "      <td>85</td>\n",
       "      <td>58</td>\n",
       "    </tr>\n",
       "    <tr>\n",
       "      <th>1</th>\n",
       "      <td>Auckland</td>\n",
       "      <td>1383804</td>\n",
       "      <td>1227116</td>\n",
       "      <td>1003929</td>\n",
       "      <td>88</td>\n",
       "      <td>72</td>\n",
       "    </tr>\n",
       "    <tr>\n",
       "      <th>2</th>\n",
       "      <td>Buller District</td>\n",
       "      <td>8272</td>\n",
       "      <td>6276</td>\n",
       "      <td>4928</td>\n",
       "      <td>75</td>\n",
       "      <td>59</td>\n",
       "    </tr>\n",
       "    <tr>\n",
       "      <th>3</th>\n",
       "      <td>Carterton District</td>\n",
       "      <td>8259</td>\n",
       "      <td>6961</td>\n",
       "      <td>5623</td>\n",
       "      <td>84</td>\n",
       "      <td>68</td>\n",
       "    </tr>\n",
       "    <tr>\n",
       "      <th>4</th>\n",
       "      <td>Central Hawke's Bay District</td>\n",
       "      <td>11838</td>\n",
       "      <td>9819</td>\n",
       "      <td>7715</td>\n",
       "      <td>82</td>\n",
       "      <td>65</td>\n",
       "    </tr>\n",
       "  </tbody>\n",
       "</table>\n",
       "</div>"
      ],
      "text/plain": [
       "          Territorial Authority  Population  First Dose  Second Dose  \\\n",
       "0            Ashburton District       27424       23566        15946   \n",
       "1                      Auckland     1383804     1227116      1003929   \n",
       "2               Buller District        8272        6276         4928   \n",
       "3            Carterton District        8259        6961         5623   \n",
       "4  Central Hawke's Bay District       11838        9819         7715   \n",
       "\n",
       "   % First Dose  % Second Dose  \n",
       "0            85             58  \n",
       "1            88             72  \n",
       "2            75             59  \n",
       "3            84             68  \n",
       "4            82             65  "
      ]
     },
     "execution_count": 19,
     "metadata": {},
     "output_type": "execute_result"
    }
   ],
   "source": [
    "df1.head()"
   ]
  },
  {
   "cell_type": "markdown",
   "metadata": {},
   "source": [
    "Highest District with Second Dose"
   ]
  },
  {
   "cell_type": "code",
   "execution_count": 20,
   "metadata": {},
   "outputs": [
    {
     "data": {
      "text/html": [
       "<div>\n",
       "<style scoped>\n",
       "    .dataframe tbody tr th:only-of-type {\n",
       "        vertical-align: middle;\n",
       "    }\n",
       "\n",
       "    .dataframe tbody tr th {\n",
       "        vertical-align: top;\n",
       "    }\n",
       "\n",
       "    .dataframe thead th {\n",
       "        text-align: right;\n",
       "    }\n",
       "</style>\n",
       "<table border=\"1\" class=\"dataframe\">\n",
       "  <thead>\n",
       "    <tr style=\"text-align: right;\">\n",
       "      <th></th>\n",
       "      <th>Territorial Authority</th>\n",
       "      <th>% Second Dose</th>\n",
       "    </tr>\n",
       "  </thead>\n",
       "  <tbody>\n",
       "    <tr>\n",
       "      <th>6</th>\n",
       "      <td>Chatham Islands Territory</td>\n",
       "      <td>88</td>\n",
       "    </tr>\n",
       "    <tr>\n",
       "      <th>9</th>\n",
       "      <td>Dunedin City</td>\n",
       "      <td>77</td>\n",
       "    </tr>\n",
       "    <tr>\n",
       "      <th>38</th>\n",
       "      <td>Queenstown-Lakes District</td>\n",
       "      <td>75</td>\n",
       "    </tr>\n",
       "    <tr>\n",
       "      <th>28</th>\n",
       "      <td>Marlborough District</td>\n",
       "      <td>74</td>\n",
       "    </tr>\n",
       "    <tr>\n",
       "      <th>5</th>\n",
       "      <td>Central Otago District</td>\n",
       "      <td>73</td>\n",
       "    </tr>\n",
       "    <tr>\n",
       "      <th>...</th>\n",
       "      <td>...</td>\n",
       "      <td>...</td>\n",
       "    </tr>\n",
       "    <tr>\n",
       "      <th>34</th>\n",
       "      <td>Opotiki District</td>\n",
       "      <td>53</td>\n",
       "    </tr>\n",
       "    <tr>\n",
       "      <th>44</th>\n",
       "      <td>South Waikato District</td>\n",
       "      <td>52</td>\n",
       "    </tr>\n",
       "    <tr>\n",
       "      <th>26</th>\n",
       "      <td>Mackenzie District</td>\n",
       "      <td>52</td>\n",
       "    </tr>\n",
       "    <tr>\n",
       "      <th>41</th>\n",
       "      <td>Ruapehu District</td>\n",
       "      <td>51</td>\n",
       "    </tr>\n",
       "    <tr>\n",
       "      <th>24</th>\n",
       "      <td>Kawerau District</td>\n",
       "      <td>46</td>\n",
       "    </tr>\n",
       "  </tbody>\n",
       "</table>\n",
       "<p>69 rows × 2 columns</p>\n",
       "</div>"
      ],
      "text/plain": [
       "        Territorial Authority  % Second Dose\n",
       "6   Chatham Islands Territory             88\n",
       "9                Dunedin City             77\n",
       "38  Queenstown-Lakes District             75\n",
       "28       Marlborough District             74\n",
       "5      Central Otago District             73\n",
       "..                        ...            ...\n",
       "34           Opotiki District             53\n",
       "44     South Waikato District             52\n",
       "26         Mackenzie District             52\n",
       "41           Ruapehu District             51\n",
       "24           Kawerau District             46\n",
       "\n",
       "[69 rows x 2 columns]"
      ]
     },
     "execution_count": 20,
     "metadata": {},
     "output_type": "execute_result"
    }
   ],
   "source": [
    "high_df= df1.groupby( 'Territorial Authority')['% Second Dose'].sum().reset_index()\n",
    "high_df.head()\n",
    "high_sorted= high_df.sort_values(by='% Second Dose', ascending = False)\n",
    "high_sorted"
   ]
  },
  {
   "cell_type": "code",
   "execution_count": 21,
   "metadata": {},
   "outputs": [
    {
     "data": {
      "text/plain": [
       "Text(0.5, 1.0, 'Top District with highest Vaccination')"
      ]
     },
     "execution_count": 21,
     "metadata": {},
     "output_type": "execute_result"
    },
    {
     "data": {
      "image/png": "[encoded data removed]",
      "text/plain": [
       "<Figure size 720x360 with 1 Axes>"
      ]
     },
     "metadata": {
      "needs_background": "light"
     },
     "output_type": "display_data"
    }
   ],
   "source": [
    "plt.figure(figsize=(10, 5))\n",
    "sns.barplot(y='% Second Dose', x='Territorial Authority', data= high_sorted.head() )\n",
    "plt.title('Top District with highest Vaccination')"
   ]
  },
  {
   "cell_type": "markdown",
   "metadata": {},
   "source": [
    "Highest District with First dose"
   ]
  },
  {
   "cell_type": "code",
   "execution_count": 22,
   "metadata": {},
   "outputs": [
    {
     "data": {
      "text/html": [
       "<div>\n",
       "<style scoped>\n",
       "    .dataframe tbody tr th:only-of-type {\n",
       "        vertical-align: middle;\n",
       "    }\n",
       "\n",
       "    .dataframe tbody tr th {\n",
       "        vertical-align: top;\n",
       "    }\n",
       "\n",
       "    .dataframe thead th {\n",
       "        text-align: right;\n",
       "    }\n",
       "</style>\n",
       "<table border=\"1\" class=\"dataframe\">\n",
       "  <thead>\n",
       "    <tr style=\"text-align: right;\">\n",
       "      <th></th>\n",
       "      <th>Territorial Authority</th>\n",
       "      <th>% First Dose</th>\n",
       "    </tr>\n",
       "  </thead>\n",
       "  <tbody>\n",
       "    <tr>\n",
       "      <th>38</th>\n",
       "      <td>Queenstown-Lakes District</td>\n",
       "      <td>95</td>\n",
       "    </tr>\n",
       "    <tr>\n",
       "      <th>63</th>\n",
       "      <td>Wellington City</td>\n",
       "      <td>93</td>\n",
       "    </tr>\n",
       "    <tr>\n",
       "      <th>42</th>\n",
       "      <td>Selwyn District</td>\n",
       "      <td>93</td>\n",
       "    </tr>\n",
       "    <tr>\n",
       "      <th>9</th>\n",
       "      <td>Dunedin City</td>\n",
       "      <td>90</td>\n",
       "    </tr>\n",
       "    <tr>\n",
       "      <th>1</th>\n",
       "      <td>Auckland</td>\n",
       "      <td>88</td>\n",
       "    </tr>\n",
       "    <tr>\n",
       "      <th>...</th>\n",
       "      <td>...</td>\n",
       "      <td>...</td>\n",
       "    </tr>\n",
       "    <tr>\n",
       "      <th>41</th>\n",
       "      <td>Ruapehu District</td>\n",
       "      <td>71</td>\n",
       "    </tr>\n",
       "    <tr>\n",
       "      <th>66</th>\n",
       "      <td>Whakatane District</td>\n",
       "      <td>70</td>\n",
       "    </tr>\n",
       "    <tr>\n",
       "      <th>34</th>\n",
       "      <td>Opotiki District</td>\n",
       "      <td>69</td>\n",
       "    </tr>\n",
       "    <tr>\n",
       "      <th>24</th>\n",
       "      <td>Kawerau District</td>\n",
       "      <td>65</td>\n",
       "    </tr>\n",
       "    <tr>\n",
       "      <th>6</th>\n",
       "      <td>Chatham Islands Territory</td>\n",
       "      <td>1</td>\n",
       "    </tr>\n",
       "  </tbody>\n",
       "</table>\n",
       "<p>69 rows × 2 columns</p>\n",
       "</div>"
      ],
      "text/plain": [
       "        Territorial Authority  % First Dose\n",
       "38  Queenstown-Lakes District            95\n",
       "63            Wellington City            93\n",
       "42            Selwyn District            93\n",
       "9                Dunedin City            90\n",
       "1                    Auckland            88\n",
       "..                        ...           ...\n",
       "41           Ruapehu District            71\n",
       "66         Whakatane District            70\n",
       "34           Opotiki District            69\n",
       "24           Kawerau District            65\n",
       "6   Chatham Islands Territory             1\n",
       "\n",
       "[69 rows x 2 columns]"
      ]
     },
     "execution_count": 22,
     "metadata": {},
     "output_type": "execute_result"
    }
   ],
   "source": [
    "high_df= df1.groupby( 'Territorial Authority')['% First Dose'].sum().reset_index()\n",
    "high_df.head()\n",
    "high_sorted= high_df.sort_values(by='% First Dose', ascending = False)\n",
    "high_sorted"
   ]
  },
  {
   "cell_type": "code",
   "execution_count": 23,
   "metadata": {},
   "outputs": [
    {
     "data": {
      "text/plain": [
       "Text(0.5, 1.0, 'Top District with highest Vaccination')"
      ]
     },
     "execution_count": 23,
     "metadata": {},
     "output_type": "execute_result"
    },
    {
     "data": {
      "image/png": "[encoded data removed]",
      "text/plain": [
       "<Figure size 720x360 with 1 Axes>"
      ]
     },
     "metadata": {
      "needs_background": "light"
     },
     "output_type": "display_data"
    }
   ],
   "source": [
    "plt.figure(figsize=(10, 5))\n",
    "sns.barplot(y='% First Dose', x='Territorial Authority', data= high_sorted.head() )\n",
    "plt.title('Top District with highest Vaccination')"
   ]
  },
  {
   "cell_type": "markdown",
   "metadata": {},
   "source": [
    "Analysis based on doses administered\n"
   ]
  },
  {
   "cell_type": "code",
   "execution_count": 24,
   "metadata": {},
   "outputs": [],
   "source": [
    "df_dose=pd.read_excel('covid_vaccinations_19_10_2021.xlsx', sheet_name=\"Date\")"
   ]
  },
  {
   "cell_type": "code",
   "execution_count": 25,
   "metadata": {},
   "outputs": [
    {
     "data": {
      "text/html": [
       "<div>\n",
       "<style scoped>\n",
       "    .dataframe tbody tr th:only-of-type {\n",
       "        vertical-align: middle;\n",
       "    }\n",
       "\n",
       "    .dataframe tbody tr th {\n",
       "        vertical-align: top;\n",
       "    }\n",
       "\n",
       "    .dataframe thead th {\n",
       "        text-align: right;\n",
       "    }\n",
       "</style>\n",
       "<table border=\"1\" class=\"dataframe\">\n",
       "  <thead>\n",
       "    <tr style=\"text-align: right;\">\n",
       "      <th></th>\n",
       "      <th>Date</th>\n",
       "      <th>First dose administered</th>\n",
       "      <th>Second dose administered</th>\n",
       "    </tr>\n",
       "  </thead>\n",
       "  <tbody>\n",
       "    <tr>\n",
       "      <th>0</th>\n",
       "      <td>2021-02-18</td>\n",
       "      <td>1</td>\n",
       "      <td>0</td>\n",
       "    </tr>\n",
       "    <tr>\n",
       "      <th>1</th>\n",
       "      <td>2021-02-19</td>\n",
       "      <td>29</td>\n",
       "      <td>0</td>\n",
       "    </tr>\n",
       "    <tr>\n",
       "      <th>2</th>\n",
       "      <td>2021-02-20</td>\n",
       "      <td>65</td>\n",
       "      <td>0</td>\n",
       "    </tr>\n",
       "    <tr>\n",
       "      <th>3</th>\n",
       "      <td>2021-02-21</td>\n",
       "      <td>68</td>\n",
       "      <td>1</td>\n",
       "    </tr>\n",
       "    <tr>\n",
       "      <th>4</th>\n",
       "      <td>2021-02-22</td>\n",
       "      <td>448</td>\n",
       "      <td>0</td>\n",
       "    </tr>\n",
       "  </tbody>\n",
       "</table>\n",
       "</div>"
      ],
      "text/plain": [
       "        Date  First dose administered  Second dose administered\n",
       "0 2021-02-18                        1                         0\n",
       "1 2021-02-19                       29                         0\n",
       "2 2021-02-20                       65                         0\n",
       "3 2021-02-21                       68                         1\n",
       "4 2021-02-22                      448                         0"
      ]
     },
     "execution_count": 25,
     "metadata": {},
     "output_type": "execute_result"
    }
   ],
   "source": [
    "df_dose.head()"
   ]
  },
  {
   "cell_type": "code",
   "execution_count": 26,
   "metadata": {},
   "outputs": [
    {
     "name": "stdout",
     "output_type": "stream",
     "text": [
      "<class 'pandas.core.frame.DataFrame'>\n",
      "RangeIndex: 244 entries, 0 to 243\n",
      "Data columns (total 3 columns):\n",
      " #   Column                    Non-Null Count  Dtype         \n",
      "---  ------                    --------------  -----         \n",
      " 0   Date                      244 non-null    datetime64[ns]\n",
      " 1   First dose administered   244 non-null    int64         \n",
      " 2   Second dose administered  244 non-null    int64         \n",
      "dtypes: datetime64[ns](1), int64(2)\n",
      "memory usage: 5.8 KB\n"
     ]
    },
    {
     "data": {
      "text/html": [
       "<div>\n",
       "<style scoped>\n",
       "    .dataframe tbody tr th:only-of-type {\n",
       "        vertical-align: middle;\n",
       "    }\n",
       "\n",
       "    .dataframe tbody tr th {\n",
       "        vertical-align: top;\n",
       "    }\n",
       "\n",
       "    .dataframe thead th {\n",
       "        text-align: right;\n",
       "    }\n",
       "</style>\n",
       "<table border=\"1\" class=\"dataframe\">\n",
       "  <thead>\n",
       "    <tr style=\"text-align: right;\">\n",
       "      <th></th>\n",
       "      <th>First dose administered</th>\n",
       "      <th>Second dose administered</th>\n",
       "    </tr>\n",
       "  </thead>\n",
       "  <tbody>\n",
       "    <tr>\n",
       "      <th>count</th>\n",
       "      <td>244.000000</td>\n",
       "      <td>244.000000</td>\n",
       "    </tr>\n",
       "    <tr>\n",
       "      <th>mean</th>\n",
       "      <td>14727.409836</td>\n",
       "      <td>11629.942623</td>\n",
       "    </tr>\n",
       "    <tr>\n",
       "      <th>std</th>\n",
       "      <td>15285.191059</td>\n",
       "      <td>14130.090779</td>\n",
       "    </tr>\n",
       "    <tr>\n",
       "      <th>min</th>\n",
       "      <td>1.000000</td>\n",
       "      <td>0.000000</td>\n",
       "    </tr>\n",
       "    <tr>\n",
       "      <th>25%</th>\n",
       "      <td>3752.250000</td>\n",
       "      <td>1665.500000</td>\n",
       "    </tr>\n",
       "    <tr>\n",
       "      <th>50%</th>\n",
       "      <td>9591.500000</td>\n",
       "      <td>7420.000000</td>\n",
       "    </tr>\n",
       "    <tr>\n",
       "      <th>75%</th>\n",
       "      <td>19291.500000</td>\n",
       "      <td>15609.500000</td>\n",
       "    </tr>\n",
       "    <tr>\n",
       "      <th>max</th>\n",
       "      <td>67933.000000</td>\n",
       "      <td>91356.000000</td>\n",
       "    </tr>\n",
       "  </tbody>\n",
       "</table>\n",
       "</div>"
      ],
      "text/plain": [
       "       First dose administered  Second dose administered\n",
       "count               244.000000                244.000000\n",
       "mean              14727.409836              11629.942623\n",
       "std               15285.191059              14130.090779\n",
       "min                   1.000000                  0.000000\n",
       "25%                3752.250000               1665.500000\n",
       "50%                9591.500000               7420.000000\n",
       "75%               19291.500000              15609.500000\n",
       "max               67933.000000              91356.000000"
      ]
     },
     "execution_count": 26,
     "metadata": {},
     "output_type": "execute_result"
    }
   ],
   "source": [
    "df_dose.info()\n",
    "df_dose.describe()"
   ]
  },
  {
   "cell_type": "markdown",
   "metadata": {},
   "source": [
    "Convert time data"
   ]
  },
  {
   "cell_type": "code",
   "execution_count": null,
   "metadata": {},
   "outputs": [],
   "source": [
    "df_dose['Date'] = pd.to_datetime(df_dose['Date'],format=\"%Y-%m-%d\",errors = 'coerce')\n",
    "df_dose.head()"
   ]
  },
  {
   "cell_type": "code",
   "execution_count": 27,
   "metadata": {},
   "outputs": [
    {
     "data": {
      "text/plain": [
       "Text(0.5, 1.0, 'Daily Vaccinations')"
      ]
     },
     "execution_count": 27,
     "metadata": {},
     "output_type": "execute_result"
    },
    {
     "data": {
      "image/png": "[encoded data removed]",
      "text/plain": [
       "<Figure size 720x720 with 1 Axes>"
      ]
     },
     "metadata": {
      "needs_background": "light"
     },
     "output_type": "display_data"
    }
   ],
   "source": [
    "plt.figure(figsize=(10,10))\n",
    "plt.scatter(df_dose['Date'],df_dose['First dose administered'],label='First dose administered')\n",
    "plt.scatter(df_dose['Date'],df_dose['Second dose administered'],label='Second dose administered')\n",
    "plt.legend()\n",
    "plt.xlabel('Date')\n",
    "plt.ylabel('Inoculation Quantity')\n",
    "plt.title('Daily Vaccinations') "
   ]
  },
  {
   "cell_type": "code",
   "execution_count": 29,
   "metadata": {},
   "outputs": [
    {
     "data": {
      "text/html": [
       "<div>\n",
       "<style scoped>\n",
       "    .dataframe tbody tr th:only-of-type {\n",
       "        vertical-align: middle;\n",
       "    }\n",
       "\n",
       "    .dataframe tbody tr th {\n",
       "        vertical-align: top;\n",
       "    }\n",
       "\n",
       "    .dataframe thead th {\n",
       "        text-align: right;\n",
       "    }\n",
       "</style>\n",
       "<table border=\"1\" class=\"dataframe\">\n",
       "  <thead>\n",
       "    <tr style=\"text-align: right;\">\n",
       "      <th></th>\n",
       "      <th>Date</th>\n",
       "      <th>First dose administered</th>\n",
       "      <th>Second dose administered</th>\n",
       "      <th>Total First dose administered</th>\n",
       "      <th>Total Second dose administered</th>\n",
       "      <th>Just First dose administered</th>\n",
       "    </tr>\n",
       "  </thead>\n",
       "  <tbody>\n",
       "    <tr>\n",
       "      <th>239</th>\n",
       "      <td>2021-10-15</td>\n",
       "      <td>14087</td>\n",
       "      <td>55693</td>\n",
       "      <td>3527227</td>\n",
       "      <td>2657715</td>\n",
       "      <td>869512</td>\n",
       "    </tr>\n",
       "    <tr>\n",
       "      <th>240</th>\n",
       "      <td>2021-10-16</td>\n",
       "      <td>39543</td>\n",
       "      <td>91356</td>\n",
       "      <td>3566770</td>\n",
       "      <td>2749071</td>\n",
       "      <td>817699</td>\n",
       "    </tr>\n",
       "    <tr>\n",
       "      <th>241</th>\n",
       "      <td>2021-10-17</td>\n",
       "      <td>6288</td>\n",
       "      <td>23428</td>\n",
       "      <td>3573058</td>\n",
       "      <td>2772499</td>\n",
       "      <td>800559</td>\n",
       "    </tr>\n",
       "    <tr>\n",
       "      <th>242</th>\n",
       "      <td>2021-10-18</td>\n",
       "      <td>10038</td>\n",
       "      <td>32790</td>\n",
       "      <td>3583096</td>\n",
       "      <td>2805289</td>\n",
       "      <td>777807</td>\n",
       "    </tr>\n",
       "    <tr>\n",
       "      <th>243</th>\n",
       "      <td>2021-10-19</td>\n",
       "      <td>10392</td>\n",
       "      <td>32417</td>\n",
       "      <td>3593488</td>\n",
       "      <td>2837706</td>\n",
       "      <td>755782</td>\n",
       "    </tr>\n",
       "  </tbody>\n",
       "</table>\n",
       "</div>"
      ],
      "text/plain": [
       "          Date  First dose administered  Second dose administered  \\\n",
       "239 2021-10-15                    14087                     55693   \n",
       "240 2021-10-16                    39543                     91356   \n",
       "241 2021-10-17                     6288                     23428   \n",
       "242 2021-10-18                    10038                     32790   \n",
       "243 2021-10-19                    10392                     32417   \n",
       "\n",
       "     Total First dose administered  Total Second dose administered  \\\n",
       "239                        3527227                         2657715   \n",
       "240                        3566770                         2749071   \n",
       "241                        3573058                         2772499   \n",
       "242                        3583096                         2805289   \n",
       "243                        3593488                         2837706   \n",
       "\n",
       "     Just First dose administered  \n",
       "239                        869512  \n",
       "240                        817699  \n",
       "241                        800559  \n",
       "242                        777807  \n",
       "243                        755782  "
      ]
     },
     "execution_count": 29,
     "metadata": {},
     "output_type": "execute_result"
    }
   ],
   "source": [
    "b=[]\n",
    "c=[]\n",
    "total_1 = 0\n",
    "total_2 = 0\n",
    "for i in df_dose['First dose administered']:\n",
    "    total_1+= i\n",
    "    b.append(total_1)\n",
    "df_dose['Total First dose administered'] = b\n",
    "for i in df_dose['Second dose administered']:\n",
    "    total_2+= i\n",
    "    c.append(total_2)\n",
    "df_dose['Total First dose administered'] = b\n",
    "df_dose['Total Second dose administered'] = c\n",
    "df_dose['Just First dose administered'] = df_dose['Total First dose administered'] - df_dose['Total Second dose administered']\n",
    "df_dose.tail()"
   ]
  },
  {
   "cell_type": "code",
   "execution_count": 35,
   "metadata": {},
   "outputs": [
    {
     "data": {
      "text/plain": [
       "Text(0.5, 1.0, 'Total Vaccinations')"
      ]
     },
     "execution_count": 35,
     "metadata": {},
     "output_type": "execute_result"
    },
    {
     "data": {
      "image/png": "[encoded data removed]",
      "text/plain": [
       "<Figure size 1080x720 with 1 Axes>"
      ]
     },
     "metadata": {
      "needs_background": "light"
     },
     "output_type": "display_data"
    }
   ],
   "source": [
    "plt.figure(figsize=(15,10))\n",
    "plt.plot(df_dose['Date'],df_dose['Total First dose administered'], label='Total First dose administered')\n",
    "plt.plot(df_dose['Date'],df_dose['Total Second dose administered'], label='Total Second dose administered')\n",
    "plt.plot(df_dose['Date'],df_dose['Just First dose administered'], label='Just First dose administered')\n",
    "plt.legend()\n",
    "plt.title('Total Vaccinations') \n"
   ]
  },
  {
   "cell_type": "code",
   "execution_count": null,
   "metadata": {},
   "outputs": [],
   "source": []
  }
 ],
 "metadata": {
  "kernelspec": {
   "display_name": "Python 3",
   "language": "python",
   "name": "python3"
  },
  "language_info": {
   "codemirror_mode": {
    "name": "ipython",
    "version": 3
   },
   "file_extension": ".py",
   "mimetype": "text/x-python",
   "name": "python",
   "nbconvert_exporter": "python",
   "pygments_lexer": "ipython3",
   "version": "3.8.3"
  }
 },
 "nbformat": 4,
 "nbformat_minor": 4
}
